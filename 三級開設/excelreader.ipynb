{
 "cells": [
  {
   "cell_type": "code",
   "execution_count": 1,
   "metadata": {},
   "outputs": [],
   "source": [
    "import xlwings as xw\n",
    "import datetime as dt\n",
    "import pandas as pd\n",
    "import numpy as np\n",
    "\n",
    "from dateutil import relativedelta\n",
    "from bs4 import BeautifulSoup "
   ]
  },
  {
   "cell_type": "code",
   "execution_count": 2,
   "metadata": {},
   "outputs": [],
   "source": [
    "from selenium import webdriver\n",
    "from selenium.webdriver.common.keys import Keys\n",
    "from selenium.webdriver.common.by import By\n",
    "from selenium.webdriver.support.ui import Select, WebDriverWait\n",
    "from selenium.webdriver.support import expected_conditions as EC\n",
    "from selenium.webdriver.support.wait import WebDriverWait\n",
    "from selenium.webdriver.common.action_chains import ActionChains\n",
    "\n",
    "from time import sleep\n",
    "import os, sys, re, csv, time, io, filecmp\n",
    "\n",
    "from module.func import *\n",
    "from GUI.三級加班_app import *\n",
    "from PyQt5.QtWidgets import QApplication, QMainWindow"
   ]
  },
  {
   "cell_type": "code",
   "execution_count": 3,
   "metadata": {},
   "outputs": [
    {
     "name": "stdout",
     "output_type": "stream",
     "text": [
      "專案名稱: 108年8月本市災害應變中心三級開設本局進駐\n"
     ]
    }
   ],
   "source": [
    "# Open GUI to select/read the filename, year, month and account info\n",
    "app = QApplication(sys.argv)\n",
    "MainWindow = QMainWindow()\n",
    "ui = MainWindowUIClass()\n",
    "ui.setupUi(MainWindow)\n",
    "MainWindow.show()\n",
    "app.exec_()\n",
    "(filename, filesht, year, month, account, password) = ui.getParam()\n",
    "\n",
    "if not (filename and filesht and year and month and account and \n",
    "        password):\n",
    "    ui.clear()\n",
    "    sys.exit()\n",
    "\n",
    "# Determine the file name and date\n",
    "Project_Name = '%d年%d月本市災害應變中心三級開設本局進駐'%(\n",
    "    year - 1911, month)\n",
    "Year = str(year)\n",
    "Month = str(month)\n",
    "print(\"專案名稱: \" + Project_Name)"
   ]
  },
  {
   "cell_type": "code",
   "execution_count": 4,
   "metadata": {},
   "outputs": [],
   "source": [
    "Green = (146, 208, 80)\n",
    "Red = (255, 0, 0)\n",
    "Green_t = 1\n",
    "Red_t = 2\n",
    "\n",
    "# Unit list\n",
    "OfficeList = {\"資通作業科\": \"資通作業科\", \n",
    "              \"資通科\": \"資通作業科\",\n",
    "              \"減災規劃科\": \"減災規劃科\", \n",
    "              \"減災科\": \"減災規劃科\",\n",
    "              \"整備應變科\": \"整備應變科\", \n",
    "              \"應變科\": \"整備應變科\",\n",
    "              \"災害搶救科\": \"災害搶救科\", \n",
    "              \"搶救科\": \"災害搶救科\",\n",
    "              \"火災調查科\": \"火災調查科\", \n",
    "              \"火調科\": \"火災調查科\", \n",
    "              \"綜合企劃科\": \"綜合企劃科\", \n",
    "              \"綜企科\": \"綜合企劃科\",\n",
    "              \"緊急救護科\": \"緊急救護科\", \n",
    "              \"救護科\": \"緊急救護科\",\n",
    "              \"督察室\": \"督察室\", \n",
    "              \"主任秘書室\": \"主任秘書室\", \n",
    "              \"秘書室\": \"秘書室\", \n",
    "              \"人事室\": \"人事室\", \n",
    "              \"政風室\": \"政風室\", \n",
    "              \"會計室\": \"會計室\", \n",
    "              \"訓練中心\": \"訓練中心\", \n",
    "              \"救指中心\": \"救災救護指揮中心\", \n",
    "              \"火災預防科\": \"火災預防科\", \n",
    "              \"火預科\": \"火災預防科\",\n",
    "              \"局長室\": \"局長室\", \n",
    "              \"第一副局長室\": \"第一副局長室\", \n",
    "              \"第二副局長室\": \"第二副局長室\",\n",
    "              \"第三副局長室\": \"第三副局長室\"} \n",
    "# Name list\n",
    "namelist = {}\n",
    "for key in list(OfficeList.values()):\n",
    "    namelist[key] = set()"
   ]
  },
  {
   "cell_type": "code",
   "execution_count": 5,
   "metadata": {
    "scrolled": true
   },
   "outputs": [
    {
     "name": "stdout",
     "output_type": "stream",
     "text": [
      "正在檢查加班時數表格式..."
     ]
    }
   ],
   "source": [
    "# xlwings workbook\n",
    "print(\"正在檢查加班時數表格式...\", end = '')\n",
    "workbook = xw.Book(filename)\n",
    "sheet = workbook.sheets[filesht]\n",
    "rng = sheet.range('A1').expand('table')\n",
    "if r'錯誤訊息' not in rng.rows[0].value:\n",
    "    nCol = sheet.api.UsedRange.Columns.count\n",
    "    sheet.range(chr(65 + nCol) + '1').value = r'錯誤訊息'\n",
    "    rng = sheet.range('A1').expand('table')\n",
    "# pandas dataframe\n",
    "df = pd.read_excel(filename)\n"
   ]
  },
  {
   "cell_type": "code",
   "execution_count": 6,
   "metadata": {
    "scrolled": true
   },
   "outputs": [],
   "source": [
    "# Select days in that month\n",
    "df['startdt'] = None\n",
    "df['enddt'] = None\n",
    "df['月份'] = None\n",
    "for idx in df.index[df.index < len(rng.rows)-1]:\n",
    "    # Set \"月份\" column\n",
    "    try:\n",
    "        df.loc[idx, '月份'] = df.loc[idx, '日期'].month\n",
    "    except:\n",
    "        if type(df.loc[idx, '日期']) == str:\n",
    "            df.loc[idx, '月份'] = pd.to_datetime(\n",
    "                df.loc[idx, '日期'], format='%m月%d日', errors='coerce').month\n",
    "    # Set \"Color\" column\n",
    "    #todo: different between rng and df index\n",
    "    if rng.rows[idx + 1].color == Green:\n",
    "        df.loc[idx, 'Color'] = Green_t\n",
    "    elif rng.rows[idx].color == Red:\n",
    "        df.loc[idx, 'Color'] = Red_t\n",
    "    else:\n",
    "        df.loc[idx, 'Color'] = None\n",
    "        \n",
    "df['startdt'] = None\n",
    "df['enddt'] = None\n",
    "dfidx = df[(df['月份'] == int(Month)) & (df['Color'] != Green_t)].index"
   ]
  },
  {
   "cell_type": "code",
   "execution_count": 7,
   "metadata": {},
   "outputs": [
    {
     "name": "stdout",
     "output_type": "stream",
     "text": [
      "完成\n"
     ]
    }
   ],
   "source": [
    "# Overwork period validation\n",
    "for idx in dfidx:\n",
    "    # Process overwork period string\n",
    "    (startdt, enddt) = worktime(df.loc[idx, '值勤時段'], Year)\n",
    "    df.loc[idx, 'startdt'] = startdt\n",
    "    df.loc[idx, 'enddt'] = enddt\n",
    "    \n",
    "    # Clean data\n",
    "    df.loc[idx, '單位'] = df.loc[idx, '單位'].strip()\n",
    "    df.loc[idx, '姓名'] = df.loc[idx, '姓名'].strip()\n",
    "    \n",
    "    # Label with red color when the overwork time is wrong\n",
    "    if df.loc[idx, 'startdt'] == None:\n",
    "        rng.rows[idx+1].color = (255, 0, 0)\n",
    "        rng.rows[idx+1][-1].value = '時間區段或格式錯誤'\n",
    "    else:\n",
    "        time_diff = (df.loc[idx, 'enddt'] - df.loc[idx, 'startdt']).total_seconds()\n",
    "        if time_diff <= 0:\n",
    "            rng.rows[idx+1].color = (255, 0, 0)\n",
    "            rng.rows[idx+1][-1].value = '結束時間早於開始時間'\n",
    "        \n",
    "    # Update name list\n",
    "    namelist[OfficeList[df.loc[idx, '單位'].strip()]].add(df.loc[idx, '姓名'])\n",
    "\n",
    "print(\"完成\")"
   ]
  },
  {
   "cell_type": "code",
   "execution_count": 8,
   "metadata": {},
   "outputs": [],
   "source": [
    "# Selenium process\n",
    "option = webdriver.ChromeOptions()\n",
    "# option.add_argument('--headless')\n",
    "# option.add_argument('--window-size=1280,800\"')\n",
    "if getattr(sys, 'frozen', False) :\n",
    "    # running in a bundle\n",
    "    chromedriver_path = os.path.join(sys._MEIPASS, 'chromedriver.exe')\n",
    "    browser = webdriver.Chrome(chromedriver_path, options=option)\n",
    "else:\n",
    "    # executed as a simple script, the driver should be in \"PATH\"\n",
    "    browser = webdriver.Chrome(options=option)\n",
    "#開啟google首頁\n",
    "browser.get('https://webitr.gov.taipei/WebITR/')"
   ]
  },
  {
   "cell_type": "code",
   "execution_count": 9,
   "metadata": {},
   "outputs": [],
   "source": [
    "# Login\n",
    "element_user = browser.find_element_by_id(\"userName\")\n",
    "element_user.send_keys(account)\n",
    "element_pw = browser.find_element_by_id(\"login_key\")\n",
    "element_pw.send_keys(password)\n",
    "element_pw.send_keys(Keys.RETURN)"
   ]
  },
  {
   "cell_type": "code",
   "execution_count": 10,
   "metadata": {},
   "outputs": [],
   "source": [
    "# 專案加班建置\n",
    "# Click \"差勤管理/加班管理/專案加班維護\"\n",
    "switch_to_topmost(browser)\n",
    "wait = WebDriverWait(browser, 10)\n",
    "## 差勤管理\n",
    "li1 = browser.find_element_by_css_selector(\"#MenuBar1 > li:nth-child(5) > a\")\n",
    "ActionChains(browser).move_to_element_with_offset(li1, 10, -10).move_to_element_with_offset(li1, 10, 10).perform()\n",
    "element = wait.until(EC.visibility_of_element_located((By.CSS_SELECTOR, \"#MenuBar1 > li:nth-child(5) > ul > li:nth-child(5) > a\")))\n",
    "## 加班管理\n",
    "li2 = browser.find_element_by_css_selector(\"#MenuBar1 > li:nth-child(5) > ul > li:nth-child(5) > a\")\n",
    "ActionChains(browser).move_to_element_with_offset(li2, 10, -10).move_to_element_with_offset(li2, 10, 10).perform()\n",
    "element = wait.until(EC.visibility_of_element_located((By.CSS_SELECTOR, \"#MenuBar1 > li:nth-child(5) > ul > li:nth-child(5) > ul > li:nth-child(1) > a\")))\n",
    "## 專案加班維護\n",
    "li3 = browser.find_element_by_css_selector(\"#MenuBar1 > li:nth-child(5) > ul > li:nth-child(5) > ul > li:nth-child(1) > a\")\n",
    "ActionChains(browser).move_to_element_with_offset(li3, 10, -10).move_to_element_with_offset(li3, 10, 10).perform()\n",
    "li3.click()\n",
    "## 移出左方列表使浮出列表消失\n",
    "li4 = browser.find_element_by_css_selector(\"#MenuBar1 > li:nth-child(1) > a\")\n",
    "ActionChains(browser).move_to_element_with_offset(li4, 10, -10).perform()\n",
    "element = wait.until(EC.invisibility_of_element_located((By.CSS_SELECTOR, \"#MenuBar1 > li:nth-child(5) > ul > li:nth-child(1) > a\")))\n",
    "\n"
   ]
  },
  {
   "cell_type": "code",
   "execution_count": 11,
   "metadata": {},
   "outputs": [
    {
     "name": "stdout",
     "output_type": "stream",
     "text": [
      "搜尋現存專案\n"
     ]
    }
   ],
   "source": [
    "print('搜尋現存專案')\n",
    "switch_to_iframe(browser)\n",
    "browser.find_element_by_link_text('[專案加班立案查詢]').click()"
   ]
  },
  {
   "cell_type": "code",
   "execution_count": 12,
   "metadata": {
    "scrolled": true
   },
   "outputs": [],
   "source": [
    "# Search start day\n",
    "datestrbtn = browser.find_element_by_id(\"begintime_dc_bt\")\n",
    "browser.execute_script(\"arguments[0].scrollIntoView(false);\", datestrbtn)\n",
    "datestrbtn.click()\n",
    "start_day = dt.datetime.strptime(Year + '-' + Month, '%Y-%m')\n",
    "chooseDay(start_day, browser)\n",
    "\n",
    "# Search end day\n",
    "dateendbtn = browser.find_element_by_id(\"endtime_dc_bt\")\n",
    "browser.execute_script(\"arguments[0].scrollIntoView(false);\", dateendbtn)\n",
    "dateendbtn.click()\n",
    "end_day = start_day + relativedelta.relativedelta(months = 1, days = -1)\n",
    "chooseDay(end_day, browser)\n",
    "\n",
    "# Press query button\n",
    "querybtn = browser.find_element_by_id('b1')\n",
    "browser.execute_script(\"arguments[0].scrollIntoView(false);\", querybtn)\n",
    "querybtn.click()"
   ]
  },
  {
   "cell_type": "code",
   "execution_count": 13,
   "metadata": {},
   "outputs": [],
   "source": [
    "# Search for the project\n",
    "table = browser.find_element_by_css_selector(\"#form1 > table:nth-child(7)\")\n",
    "projects = table.find_elements_by_tag_name(\"tr\")\n",
    "project = None\n",
    "projectidx = None\n",
    "for pidx in range(len(projects)):\n",
    "    # Pass first two rows\n",
    "    if pidx in [0, 1]:\n",
    "        continue\n",
    "    project_name = projects[pidx].find_elements_by_tag_name('td')[1].text\n",
    "    if project_name == Project_Name:\n",
    "        project = projects[pidx]\n",
    "        projectidx = pidx - 1\n",
    "if project is None:\n",
    "    print('無現存專案，新增專案')\n",
    "    # Create new project\n",
    "    switch_to_iframe(browser)\n",
    "    pagebtn = browser.find_element_by_link_text('[新增專案加班立案]')\n",
    "    browser.execute_script(\"arguments[0].scrollIntoView(false);\", pagebtn)\n",
    "    pagebtn.click()\n",
    "    # Enter project name\n",
    "    pjname_box = browser.find_element_by_id('projectName')\n",
    "    browser.execute_script(\"arguments[0].scrollIntoView(false);\", pjname_box)\n",
    "    pjname_box.clear()\n",
    "    pjname_box.send_keys(Project_Name)\n",
    "    # Select project type\n",
    "    Select(browser.find_element_by_id('projectType')).select_by_visible_text('只可領錢')\n",
    "    # Choose project date period\n",
    "    beginbtn = browser.find_element_by_id('begintime_dc_bt')\n",
    "    browser.execute_script(\"arguments[0].scrollIntoView(false);\", beginbtn)\n",
    "    beginbtn.click()\n",
    "    chooseDay(start_day, browser)\n",
    "    endbtn = browser.find_element_by_id('endtime_dc_bt')\n",
    "    browser.execute_script(\"arguments[0].scrollIntoView(false);\", endbtn)\n",
    "    endbtn.click()\n",
    "    chooseDay(end_day, browser)\n",
    "    # Choose project time period\n",
    "    Select(browser.find_element_by_id('begTimehh')).select_by_visible_text('00')\n",
    "    Select(browser.find_element_by_id('begTimemm')).select_by_visible_text('00')\n",
    "    Select(browser.find_element_by_id('endTimehh')).select_by_visible_text('23')\n",
    "    Select(browser.find_element_by_id('endTimemm')).select_by_visible_text('59')\n",
    "    # Enter time limit\n",
    "    timelimitbtn = browser.find_element_by_id('monthLimit')\n",
    "    browser.execute_script(\"arguments[0].scrollIntoView(false);\", timelimitbtn)\n",
    "    timelimitbtn.clear()\n",
    "    timelimitbtn.send_keys(70)\n",
    "    # Submit the new project\n",
    "    submitbtn1 = browser.find_element_by_css_selector('#form1 > table > tbody > tr:nth-child(9) > td > input[type=\"button\"]')\n",
    "    browser.execute_script(\"arguments[0].scrollIntoView(false);\", submitbtn1)\n",
    "    submitbtn1.click()\n",
    "    submitbtn2 = browser.find_element_by_css_selector('#form1 > table:nth-child(5) > tbody > tr:nth-child(4) > td > input[type=\"button\"]:nth-child(1)')\n",
    "    browser.execute_script(\"arguments[0].scrollIntoView(false);\", submitbtn2)\n",
    "    submitbtn2.click()\n",
    "else:\n",
    "    # Edit existed project\n",
    "    btnid = 'edit_' + str(projectidx)\n",
    "    editbtn = project.find_element_by_name(btnid)\n",
    "    browser.execute_script(\"arguments[0].scrollIntoView(false);\", editbtn)\n",
    "    editbtn.click()\n",
    "    # 編輯專案人員\n",
    "    editmemberbtn = browser.find_element_by_css_selector(\n",
    "        '#form1 > table:nth-child(11) > tbody > tr:nth-child(9) > td > input[type=\"button\"]:nth-child(1)')\n",
    "    browser.execute_script(\"arguments[0].scrollIntoView(false);\", editmemberbtn)\n",
    "    editmemberbtn.click()\n"
   ]
  },
  {
   "cell_type": "code",
   "execution_count": 14,
   "metadata": {},
   "outputs": [
    {
     "name": "stdout",
     "output_type": "stream",
     "text": [
      "新增加班人員\n"
     ]
    }
   ],
   "source": [
    "# Adding member\n",
    "print('新增加班人員')\n",
    "switch_to_iframe(browser)\n",
    "departlist = list(namelist.keys())\n",
    "# Select department\n",
    "for depart in departlist:\n",
    "    # Skip empty departments\n",
    "    if namelist[depart] == set():\n",
    "        continue\n",
    "    element = wait.until(EC.presence_of_element_located((By.NAME, \"depart\")))\n",
    "    depart_sel = Select(browser.find_element_by_name(\"depart\"))\n",
    "    depart_sel.select_by_visible_text(depart)\n",
    "    sleep(1)\n",
    "    depart_sel = Select(browser.find_element_by_name(\"depart\"))\n",
    "    depart_sel.select_by_visible_text(depart)\n",
    "\n",
    "    # Wait for name list updated\n",
    "    mem_num = 0\n",
    "    while(mem_num == 0):\n",
    "        sleep(1)\n",
    "        mem_sel = Select(browser.find_element_by_name(\"members\"))\n",
    "        mem_num = len(mem_sel.options)\n",
    "\n",
    "    # Select workover member in the department\n",
    "    for mem in namelist[depart]:\n",
    "        try:\n",
    "            mem_sel.select_by_visible_text(mem)\n",
    "        except:\n",
    "            print(\"單位與姓名配對錯誤:\\t{}不在{}中\".format(mem, depart))\n",
    "    if not mem_sel.all_selected_options:\n",
    "        continue\n",
    "    add_btn = browser.find_element_by_id(\"add\")\n",
    "    browser.execute_script(\"arguments[0].scrollIntoView(false);\", add_btn)\n",
    "    add_btn.click()\n",
    "    addmembtn = browser.find_element_by_css_selector(\"#form1 > table:nth-child(7) > tbody > tr:nth-child(11) > td > input[type=\\\"button\\\"]\")\n",
    "    browser.execute_script(\"arguments[0].scrollIntoView(false);\", addmembtn)\n",
    "    addmembtn.click()"
   ]
  },
  {
   "cell_type": "code",
   "execution_count": 15,
   "metadata": {},
   "outputs": [
    {
     "name": "stdout",
     "output_type": "stream",
     "text": [
      "搜尋加班人員身分證號\n"
     ]
    }
   ],
   "source": [
    "# Construct a name-to-personalID dictionary\n",
    "print('搜尋加班人員身分證號')\n",
    "main_window = browser.window_handles[0]\n",
    "switch_to_accountframe(browser)\n",
    "admin_login_btn = browser.find_element_by_id('adminLoginByName')\n",
    "browser.execute_script(\"arguments[0].scrollIntoView(false);\", admin_login_btn)\n",
    "admin_login_btn.click()\n",
    "pop_window = browser.window_handles[1]\n",
    "browser.switch_to.window(pop_window)\n",
    "NameIdList = {}\n",
    "for unit in namelist:\n",
    "    for name in namelist[unit]:\n",
    "        element = wait.until(EC.visibility_of_element_located((By.NAME, \"searchName\")))\n",
    "        name_input = browser.find_element_by_name('searchName')\n",
    "        browser.execute_script(\"arguments[0].scrollIntoView(false);\", name_input)\n",
    "        name_input.send_keys(name)\n",
    "        name_input.send_keys(Keys.RETURN)\n",
    "        try:\n",
    "            tb = browser.find_elements_by_css_selector('body > div > form > table > tbody')[0]\n",
    "            trs = tb.find_elements_by_tag_name('tr')\n",
    "            for i in range(1, len(trs)):\n",
    "                tr = trs[i]\n",
    "                if unit in tr.text:\n",
    "                    NameIdList[name] = tr.find_element_by_tag_name('input')\\\n",
    "                                         .get_attribute('value')\n",
    "        except:\n",
    "            print(\"搜尋不到{}之身分證字號\".format(name))\n",
    "browser.close()\n",
    "browser.switch_to.window(main_window)"
   ]
  },
  {
   "cell_type": "code",
   "execution_count": 16,
   "metadata": {},
   "outputs": [],
   "source": [
    "# 新增加班人員資料\n",
    "# Click \"差勤管理/加班管理/加班資料維護\"\n",
    "switch_to_topmost(browser)\n",
    "wait = WebDriverWait(browser, 10)\n",
    "## 差勤管理\n",
    "li1 = browser.find_element_by_css_selector(\"#MenuBar1 > li:nth-child(5) > a\")\n",
    "ActionChains(browser).move_to_element_with_offset(li1, 10, -10).move_to_element_with_offset(li1, 10, 10).perform()\n",
    "element = wait.until(EC.visibility_of_element_located((By.CSS_SELECTOR, \"#MenuBar1 > li:nth-child(5) > ul > li:nth-child(5) > a\")))\n",
    "## 加班管理\n",
    "li2 = browser.find_element_by_css_selector(\"#MenuBar1 > li:nth-child(5) > ul > li:nth-child(5) > a\")\n",
    "ActionChains(browser).move_to_element_with_offset(li2, 10, -10).move_to_element_with_offset(li2, 10, 10).perform()\n",
    "element = wait.until(EC.visibility_of_element_located((By.CSS_SELECTOR, \"#MenuBar1 > li:nth-child(5) > ul > li:nth-child(5) > ul > li:nth-child(2) > a\")))\n",
    "## 專案加班維護\n",
    "li3 = browser.find_element_by_css_selector(\"#MenuBar1 > li:nth-child(5) > ul > li:nth-child(5) > ul > li:nth-child(2) > a\")\n",
    "ActionChains(browser).move_to_element_with_offset(li3, 10, -10).move_to_element_with_offset(li3, 10, 10).perform()\n",
    "li3.click()\n",
    "## 移出左方列表使浮出列表消失\n",
    "li4 = browser.find_element_by_css_selector(\"#MenuBar1 > li:nth-child(1) > a\")\n",
    "ActionChains(browser).move_to_element_with_offset(li4, 10, -10).perform()\n",
    "element = wait.until(EC.invisibility_of_element_located((By.CSS_SELECTOR, \"#MenuBar1 > li:nth-child(5) > ul > li:nth-child(1) > a\")))\n",
    "\n"
   ]
  },
  {
   "cell_type": "code",
   "execution_count": 17,
   "metadata": {},
   "outputs": [],
   "source": [
    "switch_to_iframe(browser)\n",
    "browser.find_element_by_link_text('[新增加班紀錄]').click()"
   ]
  },
  {
   "cell_type": "code",
   "execution_count": null,
   "metadata": {},
   "outputs": [
    {
     "name": "stdout",
     "output_type": "stream",
     "text": [
      "執行第1次輸入，共2次\n",
      "處理進度: 84%    "
     ]
    }
   ],
   "source": [
    "# Add workover data\n",
    "departlist = list(namelist.keys())\n",
    "element = wait.until(EC.visibility_of_element_located((By.CSS_SELECTOR, \"#unit\")))\n",
    "\n",
    "# 執行兩次以防網路延遲的輸入失敗\n",
    "for i in range(2):\n",
    "    print('執行第{}次輸入，共2次'.format(i + 1))\n",
    "    for idx in dfidx:\n",
    "        print('\\r處理進度: {}%    '.format(int(idx/dfidx[-1]*100)), \n",
    "              end = '')\n",
    "        try:\n",
    "            if (rng.rows[idx+1].color == Green) or \\\n",
    "               (rng.rows[idx+1][-1].value != None):\n",
    "                continue\n",
    "            # Clear selected item\n",
    "            deselect(browser)\n",
    "            # Select unit\n",
    "            depart_sel = Select(browser.find_element_by_id(\"unit\"))\n",
    "            depart_sel.select_by_visible_text(OfficeList[df.loc[idx, '單位']])\n",
    "            # Select member\n",
    "            mem_name = NameIdList[df.loc[idx, '姓名']]\n",
    "            name_xpath = \"//input[@value='\" + mem_name + \"']\"\n",
    "            mem_box = browser.find_element_by_xpath(name_xpath)\n",
    "            browser.execute_script(\"arguments[0].scrollIntoView(false);\", mem_box)\n",
    "            mem_box.click()\n",
    "            # Enter start time, end time, and work-over hours\n",
    "            enter_wo_period(df.loc[idx, 'startdt'], df.loc[idx, 'enddt'], \n",
    "                            int(df.loc[idx, '總計時數(1+2)']), browser)\n",
    "            # Add project reason\n",
    "            proj_box = browser.find_element_by_id('projectInput')\n",
    "            browser.execute_script(\"arguments[0].scrollIntoView(false);\", proj_box)\n",
    "            if proj_box.is_selected():\n",
    "                browser.find_element_by_id('projectInput').click()\n",
    "                browser.find_element_by_id('projectInput').click()\n",
    "            else:\n",
    "                browser.find_element_by_id('projectInput').click()        \n",
    "            element = wait.until(EC.visibility_of_element_located((By.ID, \"project_ptid\")))\n",
    "            proj_ptid = Select(browser.find_element_by_id('project_ptid'))\n",
    "            proj_ptid.select_by_visible_text(Project_Name)\n",
    "            browser.execute_script(\"arguments[0].scrollIntoView(false);\", proj_box)\n",
    "\n",
    "            proj_reason = browser.find_element_by_id('prreason')\n",
    "            browser.execute_script(\"arguments[0].scrollIntoView(false);\", proj_reason)\n",
    "            proj_reason.clear()\n",
    "            proj_reason.send_keys(Project_Name)\n",
    "            # Click submit button\n",
    "            submit_btn = browser.find_element_by_id('btn_submit')\n",
    "            browser.execute_script(\"arguments[0].scrollIntoView(false);\", submit_btn)\n",
    "            submit_btn.click()\n",
    "            # Record the result\n",
    "            result = browser.find_element_by_tag_name('p')\n",
    "            (success, fail) = re.findall(\n",
    "                r'成功:(\\d+)筆、失敗:(\\d+)筆。', result.text)[0]\n",
    "            if bool(int(success)) and not bool(int(fail)):\n",
    "                rng.rows[idx+1].color = Green\n",
    "            else:\n",
    "                rng.rows[idx+1].color = Red\n",
    "                err_msg = re.findall('新增失敗:(\\w*)', result.text)\n",
    "                # Set error message\n",
    "                if err_msg:\n",
    "                    rng.rows[idx+1][-1].value = err_msg\n",
    "        except KeyboardInterrupt:\n",
    "            break\n",
    "        except:\n",
    "            if rng.rows[idx+1].color not in [Green, Red]:\n",
    "                rng.rows[idx+1].color = Red\n",
    "    print()\n",
    "        "
   ]
  },
  {
   "cell_type": "code",
   "execution_count": 19,
   "metadata": {
    "scrolled": true
   },
   "outputs": [],
   "source": [
    "browser.quit()\n",
    "workbook.save()"
   ]
  },
  {
   "cell_type": "code",
   "execution_count": 20,
   "metadata": {},
   "outputs": [
    {
     "name": "stdout",
     "output_type": "stream",
     "text": [
      "共有 140 筆錯誤項目，請於加班時數統計表手動更正\n",
      "\n",
      "按任意鍵結束\n"
     ]
    },
    {
     "data": {
      "text/plain": [
       "''"
      ]
     },
     "execution_count": 20,
     "metadata": {},
     "output_type": "execute_result"
    }
   ],
   "source": [
    "# Check the number of error items\n",
    "err_num = 0\n",
    "for idx in dfidx:\n",
    "    if rng.rows[idx+1].color == Red:\n",
    "        err_num += 1\n",
    "\n",
    "if err_num:\n",
    "    print(\"共有 {} 筆錯誤項目，請於加班時數統計表手動更正\".format(err_num))\n",
    "else:\n",
    "    print(\"無錯誤項目，三級加班專案開設已完成\")\n",
    "    workbook.close()\n",
    "    \n",
    "input(\"\\n按任意鍵結束\")"
   ]
  }
 ],
 "metadata": {
  "kernelspec": {
   "display_name": "Python 3",
   "language": "python",
   "name": "python3"
  },
  "language_info": {
   "codemirror_mode": {
    "name": "ipython",
    "version": 3
   },
   "file_extension": ".py",
   "mimetype": "text/x-python",
   "name": "python",
   "nbconvert_exporter": "python",
   "pygments_lexer": "ipython3",
   "version": "3.7.1"
  }
 },
 "nbformat": 4,
 "nbformat_minor": 2
}

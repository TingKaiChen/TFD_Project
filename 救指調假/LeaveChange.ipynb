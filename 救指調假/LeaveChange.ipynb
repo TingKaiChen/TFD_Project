{
 "cells": [
  {
   "cell_type": "code",
   "execution_count": 1,
   "metadata": {},
   "outputs": [],
   "source": [
    "from selenium import webdriver\n",
    "from selenium.webdriver.common.keys import Keys\n",
    "from selenium.webdriver.common.by import By\n",
    "from selenium.webdriver.support.ui import Select, WebDriverWait\n",
    "from selenium.webdriver.support import expected_conditions as EC\n",
    "from selenium.webdriver.support.wait import WebDriverWait\n",
    "from selenium.webdriver.common.action_chains import ActionChains\n",
    "\n",
    "from time import sleep\n",
    "from dateutil import relativedelta\n",
    "import os, sys, re, csv, time, io, filecmp\n",
    "import datetime as dt\n",
    "import pandas as pd\n",
    "\n",
    "from module.func import *\n",
    "from GUI.救指調假_app import *\n",
    "from PyQt5.QtWidgets import QApplication, QMainWindow"
   ]
  },
  {
   "cell_type": "code",
   "execution_count": 2,
   "metadata": {},
   "outputs": [],
   "source": [
    "# Open GUI to select/read filenames\n",
    "app = QtWidgets.QApplication(sys.argv)\n",
    "MainWindow = QtWidgets.QMainWindow()\n",
    "ui = MainWindowUIClass()\n",
    "ui.setupUi(MainWindow)\n",
    "MainWindow.show()\n",
    "app.exec_()\n",
    "\n",
    "(year, month, account, password, start_day, end_day) = ui.getParam()\n",
    "if not (year and month and account and password and start_day and \n",
    "        end_day):\n",
    "    sys.exit()"
   ]
  },
  {
   "cell_type": "code",
   "execution_count": 3,
   "metadata": {},
   "outputs": [],
   "source": [
    "dir_path = r'C:\\\\Users\\\\TFD\\\\救指調假\\\\救指調假資訊\\\\'\n",
    "\n",
    "errleavenum = 0\n",
    "cont_leave_name = []"
   ]
  },
  {
   "cell_type": "code",
   "execution_count": 4,
   "metadata": {},
   "outputs": [],
   "source": [
    "option = webdriver.ChromeOptions()\n",
    "# option.add_argument('--headless')\n",
    "# option.add_argument('--window-size=1280,800\"')\n",
    "if getattr(sys, 'frozen', False) :\n",
    "    # running in a bundle\n",
    "    chromedriver_path = os.path.join(sys._MEIPASS, 'chromedriver.exe')\n",
    "    browser = webdriver.Chrome(chromedriver_path, options=option)\n",
    "else:\n",
    "    # executed as a simple script, the driver should be in \"PATH\"\n",
    "    browser = webdriver.Chrome(options=option)\n",
    "#開啟google首頁\n",
    "browser.get('https://webitr.gov.taipei/WebITR/')"
   ]
  },
  {
   "cell_type": "code",
   "execution_count": 5,
   "metadata": {},
   "outputs": [],
   "source": [
    "# Login\n",
    "element_user = browser.find_element_by_id(\"userName\")\n",
    "element_user.send_keys(account)\n",
    "element_pw = browser.find_element_by_id(\"login_key\")\n",
    "element_pw.send_keys(password)\n",
    "element_pw.send_keys(Keys.RETURN)"
   ]
  },
  {
   "cell_type": "code",
   "execution_count": 6,
   "metadata": {},
   "outputs": [],
   "source": [
    "# Click \"差勤管理/請假管理/請假資料維護\"\n",
    "switch_to_topmost(browser)\n",
    "wait = WebDriverWait(browser, 10)\n",
    "## 差勤管理\n",
    "li1 = browser.find_element_by_css_selector(\"#MenuBar1 > li:nth-child(5) > a\")\n",
    "ActionChains(browser).move_to_element_with_offset(li1, 10, -10).move_to_element_with_offset(li1, 10, 10).perform()\n",
    "element = wait.until(EC.visibility_of_element_located((By.CSS_SELECTOR, \"#MenuBar1 > li:nth-child(5) > ul > li:nth-child(3) > a\")))\n",
    "## 請假管理\n",
    "li2 = browser.find_element_by_css_selector(\"#MenuBar1 > li:nth-child(5) > ul > li:nth-child(3) > a\")\n",
    "ActionChains(browser).move_to_element_with_offset(li2, 10, -10).move_to_element_with_offset(li2, 10, 10).perform()\n",
    "element = wait.until(EC.visibility_of_element_located((By.CSS_SELECTOR, \"#MenuBar1 > li:nth-child(5) > ul > li:nth-child(3) > ul > li:nth-child(1) > a\")))\n",
    "## 請假資料維護\n",
    "li3 = browser.find_element_by_css_selector(\"#MenuBar1 > li:nth-child(5) > ul > li:nth-child(3) > ul > li:nth-child(1) > a\")\n",
    "ActionChains(browser).move_to_element_with_offset(li3, 10, -10).move_to_element_with_offset(li3, 10, 10).perform()\n",
    "li3.click()\n",
    "## 移出左方列表使浮出列表消失\n",
    "li4 = browser.find_element_by_css_selector(\"#MenuBar1 > li:nth-child(1) > a\")\n",
    "ActionChains(browser).move_to_element_with_offset(li4, 10, -10).perform()\n",
    "element = wait.until(EC.invisibility_of_element_located((By.CSS_SELECTOR, \"#MenuBar1 > li:nth-child(5) > ul > li:nth-child(3) > a\")))\n",
    "\n",
    "switch_to_iframe(browser)\n",
    "browser.find_element_by_link_text(\"[請假資料查詢、編輯]\").click()"
   ]
  },
  {
   "cell_type": "code",
   "execution_count": 7,
   "metadata": {},
   "outputs": [],
   "source": [
    "# Select 救災救護指揮中心\n",
    "select = Select(browser.find_element_by_id(\"unit\"))\n",
    "select.select_by_visible_text(\"救災救護指揮中心\")\n",
    "# Select all members\n",
    "selAllPerson = browser.find_element_by_id('selAll').click()\n"
   ]
  },
  {
   "cell_type": "code",
   "execution_count": 8,
   "metadata": {
    "scrolled": true
   },
   "outputs": [],
   "source": [
    "# Search start day\n",
    "datestrbtn = browser.find_element_by_id(\"strDate_dc_bt\")\n",
    "browser.execute_script(\"arguments[0].scrollIntoView(false);\", datestrbtn)\n",
    "datestrbtn.click()\n",
    "chooseDay(start_day, browser)\n",
    "\n",
    "# Search end day\n",
    "dateendbtn = browser.find_element_by_id(\"endDate_dc_bt\")\n",
    "browser.execute_script(\"arguments[0].scrollIntoView(false);\", dateendbtn)\n",
    "dateendbtn.click()\n",
    "chooseDay(end_day, browser)\n",
    "\n",
    "# Press query button\n",
    "querybtn = browser.find_element_by_id('queryBtn')\n",
    "browser.execute_script(\"arguments[0].scrollIntoView(false);\", querybtn)\n",
    "querybtn.click()"
   ]
  },
  {
   "cell_type": "code",
   "execution_count": 9,
   "metadata": {},
   "outputs": [],
   "source": [
    "leave_table = browser.find_element_by_css_selector(\n",
    "    '#unitsResult > div > div > table > tbody')\n",
    "leaves = leave_table.find_elements_by_class_name('stripeMe')\n",
    "for leave in leaves:\n",
    "    # Select wrong data\n",
    "    if '合計日時數：0.0' in leave.text:\n",
    "        leavetext = leave.text\n",
    "        errleavenum += 1\n",
    "        main_window = browser.window_handles[0]\n",
    "        modify_btn = leave.find_element_by_id('modifyLink')\n",
    "        browser.execute_script(\"arguments[0].scrollIntoView(false);\", modify_btn)\n",
    "        modify_btn.send_keys(Keys.CONTROL + Keys.RETURN)\n",
    "        \n",
    "        # Edit in new tab\n",
    "        pop_window = browser.window_handles[1]\n",
    "        browser.switch_to.window(pop_window)\n",
    "        element = wait.until(EC.visibility_of_element_located((By.NAME, \"strDate_xx\")))\n",
    "        # Read start date and time\n",
    "        strDate_str = browser.find_element_by_id('strDate_xx').get_attribute('value')\n",
    "        strDate_list = strDate_str.split('-')\n",
    "        strDate_year = str(int(strDate_list[0]) + 1911)\n",
    "        strDate_mon = strDate_list[1]\n",
    "        strDate_day = strDate_list[2]\n",
    "        strTime_str = browser.find_element_by_id('strTime').get_attribute('value')\n",
    "        strTime = strTime_str[0:2] + '-' + strTime_str[2:4]\n",
    "        strDT_str = strDate_year + '-' + strDate_mon + '-' + strDate_day + '-' + strTime\n",
    "        strDate = dt.datetime.strptime(strDT_str, '%Y-%m-%d-%H-%M')\n",
    "        # Read end date and time\n",
    "        endDate_str = browser.find_element_by_id('endDate_xx').get_attribute('value')\n",
    "        endDate_list = endDate_str.split('-')\n",
    "        endDate_year = str(int(endDate_list[0]) + 1911)\n",
    "        endDate_mon = endDate_list[1]\n",
    "        endDate_day = endDate_list[2]\n",
    "        endTime_str = browser.find_element_by_id('endTime').get_attribute('value')\n",
    "        endTime = endTime_str[0:2] + '-' + endTime_str[2:4]\n",
    "        endDT_str = endDate_year + '-' + endDate_mon + '-' + endDate_day + '-' + endTime\n",
    "        endDate = dt.datetime.strptime(endDT_str, '%Y-%m-%d-%H-%M')\n",
    "        # Calculate time delta\n",
    "        timedelta = relativedelta.relativedelta(endDate, strDate)\n",
    "        if timedelta.hours == 0 and timedelta.minutes == 0:\n",
    "            povdays = browser.find_element_by_id('povdays')\n",
    "            browser.execute_script(\"arguments[0].scrollIntoView(false);\", povdays)\n",
    "            povdays.clear()\n",
    "            if '其他假' in leavetext:\n",
    "                povdays.send_keys(str((float(timedelta.days) + 1) / 2))\n",
    "            else:\n",
    "                povdays.send_keys(str(float(timedelta.days)))\n",
    "        # Click edit button\n",
    "        btns = browser.find_elements_by_tag_name('input')\n",
    "        for btn in btns:\n",
    "            if btn.get_attribute('value') == '修改':\n",
    "                edit_btn = btn\n",
    "                break\n",
    "        browser.execute_script(\"arguments[0].scrollIntoView(false);\", edit_btn)\n",
    "        edit_btn.click()\n",
    "        # Close the edit tab\n",
    "        browser.close()\n",
    "        browser.switch_to.window(main_window)\n",
    "        switch_to_iframe(browser)"
   ]
  },
  {
   "cell_type": "code",
   "execution_count": 7,
   "metadata": {},
   "outputs": [],
   "source": [
    "# Select 救災救護指揮中心\n",
    "select = Select(browser.find_element_by_id(\"unit\"))\n",
    "select.select_by_visible_text(\"救災救護指揮中心\")\n",
    "members_span = browser.find_element_by_id('location_persons')\n",
    "mem_num = len(members_span.find_elements_by_name('persons'))\n",
    "\n",
    "for i in range(mem_num):\n",
    "    # Select 救災救護指揮中心\n",
    "    select = Select(browser.find_element_by_id(\"unit\"))\n",
    "    select.select_by_visible_text(\"救災救護指揮中心\")\n",
    "    # Deselect all members\n",
    "    selAllPerson = browser.find_element_by_id('selAll')\n",
    "    selAllPerson.click()\n",
    "    selAllPerson.click()\n",
    "    # Select member\n",
    "    members_span = browser.find_element_by_id('location_persons')\n",
    "    mem = members_span.find_elements_by_name('persons')[i]\n",
    "    browser.execute_script(\"arguments[0].scrollIntoView(false);\", mem)\n",
    "    mem.click()\n",
    "    # Search start day\n",
    "    datestrbtn = browser.find_element_by_id(\"strDate_dc_bt\")\n",
    "    browser.execute_script(\"arguments[0].scrollIntoView(false);\", datestrbtn)\n",
    "    datestrbtn.click()\n",
    "    chooseDay(start_day, browser)\n",
    "    # Search end day\n",
    "    dateendbtn = browser.find_element_by_id(\"endDate_dc_bt\")\n",
    "    browser.execute_script(\"arguments[0].scrollIntoView(false);\", dateendbtn)\n",
    "    dateendbtn.click()\n",
    "    chooseDay(end_day, browser)\n",
    "    # Press query button\n",
    "    querybtn = browser.find_element_by_id('queryBtn')\n",
    "    browser.execute_script(\"arguments[0].scrollIntoView(false);\", querybtn)\n",
    "    querybtn.click()\n",
    "\n",
    "    # Check for continuous leaves\n",
    "    cont_start = dt.datetime(1900, 1, 1)\n",
    "    cont_end = dt.datetime(1900, 1, 1)\n",
    "    leavelist = []\n",
    "    elseleavelist = []\n",
    "    leavesum = []\n",
    "    elseleavesum = []\n",
    "    leave_table = browser.find_element_by_css_selector(\n",
    "        '#unitsResult > div > div > table > tbody')\n",
    "    leaves = leave_table.find_elements_by_class_name('stripeMe')\n",
    "    for leave in leaves:\n",
    "        if not isValidContinuousLeave(leave.text, cont_end):\n",
    "            updateContinueLeave(leavelist, elseleavelist, leavesum,\n",
    "                                elseleavesum, cont_start, cont_end, \n",
    "                                cont_leave_name, browser)\n",
    "            cont_start = str2Dates(leave.text)[0]\n",
    "        if re.search('(休假、請假期間)', leave.text):\n",
    "        # 休假\n",
    "            leavelist.append(leave)\n",
    "            leavesum.append(leavePeriodDays(leave.text)) \n",
    "        else:\n",
    "        # 其他假\n",
    "            elseleavelist.append(leave)\n",
    "            elseleavesum.append(leavePeriodDays(leave.text)) \n",
    "        cont_end = str2Dates(leave.text)[1]\n",
    "    updateContinueLeave(leavelist, elseleavelist, leavesum, \n",
    "                        elseleavesum, cont_start, cont_end, \n",
    "                        cont_leave_name, browser)       \n",
    "        \n",
    "browser.quit()\n"
   ]
  },
  {
   "cell_type": "code",
   "execution_count": 8,
   "metadata": {},
   "outputs": [],
   "source": [
    "# Save information\n",
    "filename = str(year) + '年' + str(month) + '月救指調假資訊.txt'\n",
    "with io.open(dir_path + filename, 'w', encoding='utf8') as outfile:\n",
    "    outfile.write('已修改 ' + str(errleavenum) + ' 筆錯誤假單\\n')\n",
    "    outfile.write('調整 ' + str(len(cont_leave_name)) + \n",
    "                  ' 筆連續休假，分別為:\\n')\n",
    "    for cleave_info in cont_leave_name:\n",
    "        outfile.write(cleave_info + '\\n')"
   ]
  },
  {
   "cell_type": "code",
   "execution_count": 9,
   "metadata": {},
   "outputs": [
    {
     "name": "stdout",
     "output_type": "stream",
     "text": [
      "已修改 0 筆錯誤假單\n",
      "調整 1 筆連續休假，分別為:\n",
      "陳崑豐\t(0130-0204為連續休假，計為2日)\n",
      "調假資訊已新增於: C:\\\\Users\\\\TFD\\\\救指調假\\\\救指調假資訊\\\\\n",
      "\n",
      "按任意鍵結束\n"
     ]
    },
    {
     "data": {
      "text/plain": [
       "''"
      ]
     },
     "execution_count": 9,
     "metadata": {},
     "output_type": "execute_result"
    }
   ],
   "source": [
    "# Summation\n",
    "print('已修改 ' + str(errleavenum) + ' 筆錯誤假單')\n",
    "print('調整 ' + str(len(cont_leave_name)) + ' 筆連續休假，分別為:')\n",
    "for cleave_info in cont_leave_name:\n",
    "    print(cleave_info)\n",
    "    \n",
    "print('調假資訊已新增於: ' + dir_path)\n",
    "input(\"\\n按任意鍵結束\")"
   ]
  }
 ],
 "metadata": {
  "kernelspec": {
   "display_name": "Python 3",
   "language": "python",
   "name": "python3"
  },
  "language_info": {
   "codemirror_mode": {
    "name": "ipython",
    "version": 3
   },
   "file_extension": ".py",
   "mimetype": "text/x-python",
   "name": "python",
   "nbconvert_exporter": "python",
   "pygments_lexer": "ipython3",
   "version": "3.7.1"
  }
 },
 "nbformat": 4,
 "nbformat_minor": 2
}
